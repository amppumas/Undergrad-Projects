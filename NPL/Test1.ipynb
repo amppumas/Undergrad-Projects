{
 "cells": [
  {
   "cell_type": "code",
   "execution_count": null,
   "metadata": {},
   "outputs": [
    {
     "data": {
      "text/html": [
       "<iframe id=\"igraph\" scrolling=\"no\" style=\"border:none;\" seamless=\"seamless\" src=\"https://plot.ly/~amppumas/45.embed\" height=\"525px\" width=\"100%\"></iframe>"
      ],
      "text/plain": [
       "<plotly.tools.PlotlyDisplay object>"
      ]
     },
     "execution_count": 1,
     "metadata": {},
     "output_type": "execute_result"
    }
   ],
   "source": [
    "# TODO : Quitar los signos de puntuación del corpus.\n",
    "# TODO : Obtener el stem de cada token en el corpus.\n",
    "# TODO : Obtener el número de tokens y tipos del corpus\n",
    "# TODO : Obtener la gráfica de la distribución de las palabras (curva de Zipf) ordenadas de mayor a menor por sus rangos estadísticos.\n",
    "# TODO : Obtener la gráfica de la curva de Zipf en escala logarítmica.\n",
    "\n",
    "from nltk import word_tokenize,stem\n",
    "from unicodedata import category\n",
    "from sys import maxunicode\n",
    "\n",
    "# Save all Spanish characters for punctuation in a list\n",
    "punctuation = [char for char in range(maxunicode) if category(chr(char)).startswith('P')]\n",
    "encoding = \"utf-8\"\n",
    "\n",
    "class Corpus():\n",
    "    def __init__(self,filename):\n",
    "        self.file = open(filename,encoding=encoding)\n",
    "        self.tokens = None\n",
    "        self.types = None\n",
    "        self.stems = dict()\n",
    "        self.graph = None\n",
    "        self.log_graph = None\n",
    "        self.processFile()\n",
    "    def processFile(self):\n",
    "        no_punctuation = self.file.read().translate(dict.fromkeys(punctuation))\n",
    "        self.tokens = word_tokenize(no_punctuation)\n",
    "        for token in self.tokens:\n",
    "            stem(token)\n",
    "        self.types = sorted(set(self.tokens))\n",
    "        self.file.close()\n",
    "    def numTokens(self):\n",
    "        return len(self.tokens)\n",
    "    def numTypes(self):\n",
    "        return len(self.types)\n",
    "\n",
    "# Treat as separate files\n",
    "texts = [Corpus(\"corpus1/d_\"+str(i+1)+\".txt\") for i in range(3)]\n",
    "for text in texts:\n",
    "    print(text.numTokens())\n",
    "    print(text.numTypes())"
   ]
  },
  {
   "cell_type": "code",
   "execution_count": null,
   "metadata": {
    "collapsed": true
   },
   "outputs": [],
   "source": []
  }
 ],
 "metadata": {
  "kernelspec": {
   "display_name": "Python 3",
   "language": "python",
   "name": "python3"
  },
  "language_info": {
   "codemirror_mode": {
    "name": "ipython",
    "version": 3
   },
   "file_extension": ".py",
   "mimetype": "text/x-python",
   "name": "python",
   "nbconvert_exporter": "python",
   "pygments_lexer": "ipython3",
   "version": "3.6.1"
  }
 },
 "nbformat": 4,
 "nbformat_minor": 1
}
